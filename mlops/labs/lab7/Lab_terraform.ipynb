{
 "cells": [
  {
   "cell_type": "markdown",
   "metadata": {},
   "source": [
    "# Infrastructure as Code (IaC)\n",
    "\n",
    "Rather than use some kind of GUI to create and manage complex infrastructure, we have ways of creating, deploying and updating infrastructure using very simple configuration files. Using code to manage our infrastructure means that we can version and share infrastructure in a consistent way.\n",
    "\n",
    "## Infrastructure\n",
    "\n",
    "When we say \"infrastructure\" we mean all of the pieces that make up our machine learning application infrastructure, including the applications (software) that are needed. \n",
    "\n",
    "We will be learning about [Terraform](https://www.terraform.io/) here, and later on will use Terraform to deploy the infrastructure needed in order to scale out our ML pipeline.\n",
    "\n",
    "Terraform uses configuration files (.tf and .tfvars files) to define the infrastructure using a simple configuration language. Once you've identified the infrastructure that you need and created the configuration files, you then *initialize* Terraform, which will look at your configuration files and download any plugins needed in order for Terraform to manage the infrastructure. Then, when you are ready, you can provision the infrastructure from the command line.\n",
    "\n",
    "We will not be going into a ton of detail here yet, so let's just review the basics of a terraform configuration file. The primary config file is called `main.tf`. In this file you will typically see three blocks of code: terraform; provider; and resource.\n",
    "\n",
    "```\n",
    "terraform {\n",
    "  required_providers {\n",
    "    aws = {\n",
    "      source  = \"hashicorp/aws\"\n",
    "      version = \"~> 4.16\"\n",
    "    }\n",
    "  }\n",
    "\n",
    "  required_version = \">= 1.2.0\"\n",
    "}\n",
    "\n",
    "provider \"aws\" {\n",
    "  region  = \"us-west-2\"\n",
    "}\n",
    "\n",
    "resource \"aws_instance\" \"app_server\" {\n",
    "  ami           = \"ami-830c94e3\"\n",
    "  instance_type = \"t2.micro\"\n",
    "\n",
    "  tags = {\n",
    "    Name = \"ExampleAppServerInstance\"\n",
    "  }\n",
    "}\n",
    "```\n",
    "\n",
    "You will learn a little bit more about these code blocks in the Terraform tutorial.\n",
    "\n",
    "When you see configuration files, you may notice that there are opportunities for using variables rather than hard-coding everything in the configuration. For example, in the configuration above you may want to change the `instance_type` without having to go in and modify the `main.tf` file directly. This is where the `variables.tf` and `terraform.tfvars` files are useful. The `variables.tf` file is where variables are defined, and within a `terraform.tfvars` configuration file you can specify the value for each variable, and then just trade these out for other `.tfvars` files if you want to modify your infrastructure.\n",
    "\n",
    "Aside from having `main.tf`, `variables.tf`, and `terraform.tfvars` files, there is also the `output.tf` file which is where you can define output variables which may be useful for connecting with other terraform projects, or for sharing these outputs (e.g. a public IP address) with other tools.\n"
   ]
  },
  {
   "cell_type": "markdown",
   "metadata": {},
   "source": [
    "\n",
    "## Installation and Tutorial\n",
    "\n",
    "To install Terraform follow the instructions for your system [here](https://developer.hashicorp.com/terraform/tutorials/gcp-get-started/install-cli). As always, verify installation by running the help command:\n",
    "\n",
    "`terraform -help`\n",
    "\n",
    "From here, let's run through some tutorials. First, read through [this page](https://developer.hashicorp.com/terraform/tutorials/gcp-get-started/infrastructure-as-code) which provides a high-level overview of Terraform. Then, let's practice provisioning infrastructure in GCP using the tutorial [here](https://developer.hashicorp.com/terraform/tutorials/gcp-get-started/google-cloud-platform-build). Notice that we do not have to do this on our local machine, we can use a [Google cloud shell](https://console.cloud.google.com/cloudshell/open?cloudshell_image=gcr.io/graphite-cloud-shell-images/terraform:latest&cloudshell_git_repo=https://github.com/hashicorp/terraform-getting-started-gcp-cloud-shell&cloudshell_git_branch=master&cloudshell_working_dir=tutorial/&open_in_editor=./main.tf&cloudshell_tutorial=./cloudshell_tutorial.md) instead.\n",
    "\n",
    "Here are some of the more common commands you should be familiar with:\n",
    "\n",
    "`terraform init`: initializes the directory that contains your .tf configuration files, downloads any providers that are needed.  \n",
    "`terraform fmt`: formats all config files.  \n",
    "`terraform validate`: confirm that your configuration is valid.   \n",
    "`terraform apply`: this will create the infrastructure plan. Once you've reviewed it, you can type in 'yes' to actually provision the infrastructure. You can then make changes to your configurations and run `apply` again to apply those changes.  \n",
    "`terraform destroy`: this will tear down your infrastructure when you are done with it.  \n",
    "\n"
   ]
  }
 ],
 "metadata": {
  "language_info": {
   "name": "python"
  }
 },
 "nbformat": 4,
 "nbformat_minor": 2
}
